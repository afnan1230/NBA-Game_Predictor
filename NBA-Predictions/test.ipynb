{
 "cells": [
  {
   "cell_type": "markdown",
   "metadata": {},
   "source": [
    "# NBA Game Predictor Model\n",
    "With the emergence of the importance of analytics in the NBA in the past few seasons, I wondered whether it would be possible to predict the outcome of NBA games with these new advanced analytics. Based on research, I decided to use team statistics such as Offensive Rating, Defensive Rating, Net Rating, Percentage of Field Goals Assisted, Assist to Turnover Ratio, Offensive Rebound Percentage, Defensive Rebound Percentage, Total Rebound Percentage Turnover Percentage, Effective Field Goal Percentage, True Shooting Percentage, Pace, and Player Impact Estimate with various classifying algorithms to see if I could predict the outcomes of games in previous seasons. The data used in this project was scraped from https://www.basketball-reference.com/ and https://nba.com/stats."
   ]
  },
  {
   "cell_type": "markdown",
   "metadata": {},
   "source": [
    "## Import Statements\n",
    "These are all the libraries I use for this project. Numpy, pandas, seaborn, and matplotlib are used to structure and visualize data, and the rest are used to perform the classification algorithms"
   ]
  },
  {
   "cell_type": "code",
   "execution_count": 6,
   "metadata": {},
   "outputs": [],
   "source": [
    "import numpy as np \n",
    "import pandas as pd \n",
    "# from bs4 import BeautifulSoup\n",
    "import seaborn as sns\n",
    "import matplotlib.pyplot as plt\n",
    "from sklearn.svm import LinearSVC\n",
    "from sklearn.neighbors import KNeighborsClassifier\n",
    "from sklearn import preprocessing\n",
    "from sklearn.svm import SVC\n",
    "from sklearn import svm\n",
    "from sklearn.ensemble import RandomForestClassifier\n",
    "from sklearn.svm import SVC\n",
    "from sklearn.ensemble import BaggingClassifier\n",
    "from sklearn.model_selection import train_test_split"
   ]
  },
  {
   "cell_type": "markdown",
   "metadata": {},
   "source": [
    "## Data Retrieval and Modification\n",
    "The first step was to retrieve all the data and clean it up so it can be used efficiently. All game data was scraped and put into .csv files, separated by season, and all statistics for teams were also scraped and put into .csv files, separated by season. Data from the 2017-2018 and 2018-2019 season is used for training, and data from the 2019-2020 season is used as the testing data. Data for 2019-2020 season is all pre-COVID to keep the conditions of games the same."
   ]
  },
  {
   "cell_type": "code",
   "execution_count": 7,
   "metadata": {},
   "outputs": [
    {
     "name": "stdout",
     "output_type": "stream",
     "text": [
      "               Team1  Team1PTS                  Team2  Team2PTS\n",
      "0     Boston Celtics        99    Cleveland Cavaliers       102\n",
      "1    Houston Rockets       122  Golden State Warriors       121\n",
      "2  Charlotte Hornets        90        Detroit Pistons       102\n",
      "3      Brooklyn Nets       131         Indiana Pacers       140\n",
      "4         Miami Heat       109          Orlando Magic       116\n"
     ]
    }
   ],
   "source": [
    "\n",
    "#2017-2018 and 2018-2019 game data is put into data frames\n",
    "\n",
    "df_2017_game = pd.read_csv('2017-18GameData.csv')\n",
    "df_2018_game = pd.read_csv('2018-19GameData.csv')\n",
    "print(df_2017_game.head())"
   ]
  },
  {
   "cell_type": "code",
   "execution_count": 23,
   "metadata": {},
   "outputs": [
    {
     "name": "stdout",
     "output_type": "stream",
     "text": [
      "                       Team1  Team1PTS                   Team2  Team2PTS  \\\n",
      "0         Philadelphia 76ers        87          Boston Celtics       105   \n",
      "1      Oklahoma City Thunder       100   Golden State Warriors       108   \n",
      "2            Milwaukee Bucks       113       Charlotte Hornets       112   \n",
      "3              Brooklyn Nets       100         Detroit Pistons       103   \n",
      "4          Memphis Grizzlies        83          Indiana Pacers       111   \n",
      "...                      ...       ...                     ...       ...   \n",
      "1225           Chicago Bulls       109      Philadelphia 76ers       125   \n",
      "1226        Dallas Mavericks        94       San Antonio Spurs       105   \n",
      "1227  Minnesota Timberwolves        95          Denver Nuggets        99   \n",
      "1228               Utah Jazz       137    Los Angeles Clippers       143   \n",
      "1229        Sacramento Kings       131  Portland Trail Blazers       136   \n",
      "\n",
      "      Team1Win  Team1OFFRTG  Team1DEFRTG  Team1NETRTG  Team1AST%  Team1AST/TO  \\\n",
      "0            0        111.6        109.0          2.6       64.8         1.80   \n",
      "1            0        109.8        106.5          3.4       54.8         1.67   \n",
      "2            1        113.5        104.9          8.6       60.1         1.88   \n",
      "3            0        108.9        109.0         -0.1       59.2         1.58   \n",
      "4            0        105.6        108.0         -2.4       63.1         1.71   \n",
      "...        ...          ...          ...          ...        ...          ...   \n",
      "1225         0        104.5        112.8         -8.3       55.0         1.55   \n",
      "1226         0        108.7        110.1         -1.5       60.3         1.64   \n",
      "1227         0        110.6        112.2         -1.6       59.1         1.88   \n",
      "1228         0        110.3        105.3          5.0       64.4         1.72   \n",
      "1229         0        109.6        110.8         -1.2       58.8         1.90   \n",
      "\n",
      "      ...  Team2AST/TO  Team2AST RATIO  Team2OREB%  Team2DREB%  Team2REB%  \\\n",
      "0     ...         2.05            18.8        25.7        72.8       49.5   \n",
      "1     ...         2.06            20.4        25.7        72.7       50.5   \n",
      "2     ...         1.90            17.0        26.8        73.1       49.5   \n",
      "3     ...         1.63            16.5        29.1        74.5       50.9   \n",
      "4     ...         1.90            18.9        26.9        72.2       49.9   \n",
      "...   ...          ...             ...         ...         ...        ...   \n",
      "1225  ...         1.80            18.7        27.8        74.1       51.7   \n",
      "1226  ...         2.03            18.1        24.6        74.4       50.1   \n",
      "1227  ...         2.04            19.3        30.8        74.4       52.4   \n",
      "1228  ...         1.65            17.1        26.3        72.2       50.0   \n",
      "1229  ...         1.66            16.6        30.8        73.9       52.6   \n",
      "\n",
      "      Team2TOV%  Team2EFG%  Team2TS%  Team2PACE  Team2PIE  \n",
      "0          12.7       53.4      56.7     100.43      53.0  \n",
      "1          13.9       56.5      59.6     101.73      54.6  \n",
      "2          12.2       51.4      55.4      99.18      48.6  \n",
      "3          14.0       50.9      54.4      97.88      48.2  \n",
      "4          13.9       53.0      56.1      98.64      52.7  \n",
      "...         ...        ...       ...        ...       ...  \n",
      "1225       14.4       53.2      57.4     102.59      52.9  \n",
      "1226       12.2       53.4      57.2      98.89      51.6  \n",
      "1227       13.6       52.7      55.8      98.49      52.4  \n",
      "1228       14.1       52.9      57.5     102.66      50.5  \n",
      "1229       13.7       52.8      56.8      99.96      52.1  \n",
      "\n",
      "[1230 rows x 33 columns]\n"
     ]
    }
   ],
   "source": [
    "#2017-2018 and 2018-2019 statistics are put into data frames\n",
    "df_2017_stats = pd.read_csv('2017-18Stats.csv')\n",
    "df_2018_stats = pd.read_csv('2018-19Stats.csv')\n",
    "\n",
    "#Team statistical data and game data are merged into one data frame. For each given game, Team1 is the away team and\n",
    "#Team2 is the home team. The data frames are merged so that for each given game, Team1's and Team2's stats are both\n",
    "#given, and the outcome, whether Team1, the away team, wins or not is also given.\n",
    "conditions = [\n",
    "    df_2017_game['Team1PTS'] > df_2017_game['Team2PTS'],\n",
    "    df_2017_game['Team1PTS'] < df_2017_game['Team2PTS']\n",
    "]\n",
    "\n",
    "choices=[1,0]\n",
    "\n",
    "df_2017_game['Team1Win'] = np.select(conditions, choices, 1)\n",
    "\n",
    "# Mergings the results and stats datasets, adding a prefix depending on which teams stats are being used\n",
    "df = df_2017_game.merge(df_2017_stats.add_prefix('Team1'), how='left', left_on=['Team1'], \n",
    "                   right_on=['Team1TEAM']).drop(['Team1TEAM'],\n",
    "                                                axis=1).merge(df_2017_stats.add_prefix('Team2'), \n",
    "                                                                            how='left', left_on=['Team2'], \n",
    "                                                                            right_on=['Team2TEAM']).drop(['Team2TEAM'],axis=1)\n",
    "conditions = [\n",
    "    df_2018_game['Team1PTS'] > df_2018_game['Team2PTS'],\n",
    "    df_2018_game['Team1PTS'] < df_2018_game['Team2PTS']\n",
    "]\n",
    "\n",
    "choices=[1,0]\n",
    "\n",
    "df_2018_game['Team1Win'] = np.select(conditions, choices, 1)\n",
    "\n",
    "# Mergings the results and stats datasets, adding a prefix depending on which teams stats are being used\n",
    "df_2018 = df_2018_game.merge(df_2018_stats.add_prefix('Team1'), how='left', left_on=['Team1'], \n",
    "                   right_on=['Team1TEAM']).drop(['Team1TEAM'],\n",
    "                                                axis=1).merge(df_2018_stats.add_prefix('Team2'), \n",
    "                                                                            how='left', left_on=['Team2'], \n",
    "                                                                           right_on=['Team2TEAM']).drop(['Team2TEAM'],axis=1)\n",
    "#Unnecessary team stats are removed from the data.\n",
    "del df['Team1GP']\n",
    "del df['Team1W']\n",
    "del df['Team1L']\n",
    "del df['Team1MIN']\n",
    "del df['Team2GP']\n",
    "del df['Team2W']\n",
    "del df['Team2L']\n",
    "del df['Team2MIN']\n",
    "del df_2018['Team1GP']\n",
    "del df_2018['Team1W']\n",
    "del df_2018['Team1L']\n",
    "del df_2018['Team1MIN']\n",
    "del df_2018['Team2GP']\n",
    "del df_2018['Team2W']\n",
    "del df_2018['Team2L']\n",
    "del df_2018['Team2MIN']\n",
    "df.to_csv('2017Data.csv')\n",
    "df_2018.to_csv('2018Data.csv')\n",
    "print(df_2018)"
   ]
  },
  {
   "cell_type": "markdown",
   "metadata": {},
   "source": [
    "Now that we have all game data and team data merged, the data is one step closer to being ready to be used for modeling. For the purposes of this project, we won't need the points data for each game either, as we are output is simply whether the away team wins or not, so we drop the points data for both reams. Then, the 2017 and 2018 data are stacked on top of one another so that they are one huge data frame."
   ]
  },
  {
   "cell_type": "code",
   "execution_count": 9,
   "metadata": {},
   "outputs": [
    {
     "name": "stdout",
     "output_type": "stream",
     "text": [
      "40590\n",
      "40590\n"
     ]
    }
   ],
   "source": [
    "#check if there are any holes in the data\n",
    "print(df.size)\n",
    "df = df.replace(-np.inf,np.nan)\n",
    "df = df.replace(np.inf,np.nan)\n",
    "df = df.replace(np.nan,0)\n",
    "print(df.size)\n",
    "df_no_pts = df.drop(['Team1PTS','Team2PTS'],1)\n",
    "df_2018_no_pts = df_2018.drop(['Team1PTS','Team2PTS'],1)\n",
    "#stacks the two dataframes on top of one another to create the training data set.\n",
    "df_total_train = pd.concat([df_no_pts,df_2018_no_pts],axis = 0)\n",
    "df_total_train.to_csv('totalData.csv')"
   ]
  },
  {
   "cell_type": "code",
   "execution_count": 10,
   "metadata": {},
   "outputs": [
    {
     "name": "stdout",
     "output_type": "stream",
     "text": [
      "   Team1Win  Team1OFFRTG  Team1DEFRTG  Team1NETRTG  Team1AST%  Team1AST/TO  \\\n",
      "0         0        106.8        103.2          3.6       58.6         1.60   \n",
      "1         1        114.1        105.7          8.4       55.7         1.56   \n",
      "2         0        109.0        109.0         -0.1       55.4         1.70   \n",
      "3         0        106.1        109.7         -3.6       61.9         1.56   \n",
      "4         0        106.2        105.8          0.4       58.5         1.58   \n",
      "\n",
      "   Team1AST RATIO  Team1OREB%  Team1DREB%  Team1REB%  ...  Team2AST/TO  \\\n",
      "0            17.0        26.3        73.9       50.4  ...         1.70   \n",
      "1            16.4        25.4        75.0       50.3  ...         1.90   \n",
      "2            16.1        27.1        76.3       51.2  ...         1.70   \n",
      "3            17.3        25.1        73.1       48.9  ...         1.67   \n",
      "4            17.1        26.1        74.1       50.1  ...         1.61   \n",
      "\n",
      "   Team2AST RATIO  Team2OREB%  Team2DREB%  Team2REB%  Team2TOV%  Team2EFG%  \\\n",
      "0            17.5        24.3        73.0       49.2       13.9       54.7   \n",
      "1            20.9        24.3        71.2       49.7       15.3       56.9   \n",
      "2            17.1        26.9        74.0       49.9       13.8       51.2   \n",
      "3            16.8        27.1        72.1       49.6       13.6       52.5   \n",
      "4            17.5        24.8        71.4       48.0       14.7       51.2   \n",
      "\n",
      "   Team2TS%  Team2PACE  Team2PIE  \n",
      "0      58.4      98.72      50.2  \n",
      "1      60.3     100.35      55.4  \n",
      "2      54.3      96.75      48.9  \n",
      "3      55.7      96.84      50.9  \n",
      "4      54.5      98.58      47.2  \n",
      "\n",
      "[5 rows x 29 columns]\n"
     ]
    }
   ],
   "source": [
    "#For the purposes of training and predicting, the team names of each team are also not useful\n",
    "df_train = df_total_train.drop(['Team1','Team2'],1)\n",
    "print(df_train.head())"
   ]
  },
  {
   "cell_type": "markdown",
   "metadata": {},
   "source": [
    "## Data Exploration\n",
    "Now, using the seaborn library, we can see how each of the statistics are related with each other with a heatmap. The bright diagonal strip shows us each stat is directly correlated to itself, basically telling us thi is working properly. We can also see that because the top left and bottom right quadrants are the most colorful, and the top right and bottom left quadrant are generally around the color for 0, a team's stats strongly correlate to itself, and do not correlate at all to the other team's stats. We also see in the top row that there isn't any single statistic that is strongly correlated to Team 1 winning. "
   ]
  },
  {
   "cell_type": "code",
   "execution_count": 11,
   "metadata": {},
   "outputs": [
    {
     "data": {
      "text/plain": [
       "<matplotlib.axes._subplots.AxesSubplot at 0x2797bddd2c8>"
      ]
     },
     "execution_count": 11,
     "metadata": {},
     "output_type": "execute_result"
    },
    {
     "data": {
      "image/png": "[encoded data removed]",
      "text/plain": [
       "<Figure size 1080x720 with 2 Axes>"
      ]
     },
     "metadata": {
      "needs_background": "light"
     },
     "output_type": "display_data"
    }
   ],
   "source": [
    "corr = df_train.corr() #creates a correlation matrix of all features\n",
    "fig, ax = plt.subplots(figsize=(15,10))\n",
    "sns.heatmap(corr,xticklabels=True, yticklabels=True) #display the heatmap"
   ]
  },
  {
   "cell_type": "markdown",
   "metadata": {},
   "source": [
    "If we also plot the amount of times that Team 1 (the away team) wins and loses, we see that it loses more often than it wins, illustrating the effect of homecourt advantage"
   ]
  },
  {
   "cell_type": "code",
   "execution_count": 12,
   "metadata": {},
   "outputs": [
    {
     "data": {
      "text/plain": [
       "<matplotlib.axes._subplots.AxesSubplot at 0x2797c641588>"
      ]
     },
     "execution_count": 12,
     "metadata": {},
     "output_type": "execute_result"
    },
    {
     "data": {
      "image/png": "[encoded data removed]",
      "text/plain": [
       "<Figure size 432x288 with 1 Axes>"
      ]
     },
     "metadata": {
      "needs_background": "light"
     },
     "output_type": "display_data"
    }
   ],
   "source": [
    "df_train['Team1Win'].plot.hist()"
   ]
  },
  {
   "cell_type": "code",
   "execution_count": 13,
   "metadata": {},
   "outputs": [],
   "source": [
    "df_train.to_csv('TrainingData.csv')\n"
   ]
  },
  {
   "cell_type": "markdown",
   "metadata": {},
   "source": [
    "## Testing different models\n",
    "Now that we have the data formatted correctly, we can put the data through various models to determine the accuracy of different models."
   ]
  },
  {
   "cell_type": "markdown",
   "metadata": {},
   "source": [
    "In this function, we pass in a training data set and a testing data set. We use the training data set to fit the model and adjust its parameters, and the testing data is used to test the accuracy of the model. the parameter 'shuffles', determines whether we shuffle the training and testing data to add more randomness to the model. The 'num_neighbors' parameter is used to determine the number of neighbors for the knn classifier. The models that this function tests are K-Nearest Neighbors, Support Vector Machine, Bagging Classifier, and Random Forest Classifier"
   ]
  },
  {
   "cell_type": "code",
   "execution_count": 14,
   "metadata": {},
   "outputs": [],
   "source": [
    "def test_Predictions(train, test,shuffles = True,num_neighbors = 15):\n",
    "    \"\"\"\n",
    "    Function to test the accuracy of various classifying models on predicting the outcomes of NBA games using statistics of both teams\n",
    "    \n",
    "    Args:\n",
    "        - train: the training dataset. The dataset that is used to fit the model.\n",
    "        - test: the testing dataset. The dataset that is used to test the accuracy of the model\n",
    "        - shuffles: whether or not the datasets will be shuffled/randomized\n",
    "        - num_neighbors: the number of nearest neighbors used for K-Nearest Neighbors Classifier\n",
    "    Return:\n",
    "        - None\n",
    "    \"\"\"\n",
    "    if(shuffles):\n",
    "        train = train.sample(frac = 1)\n",
    "        test = train.sample(frac = 1)\n",
    "    X_train = train.drop(['Team1Win'],1)\n",
    "    Y_train = train['Team1Win']\n",
    "    X_test = test.drop(['Team1Win'],1)\n",
    "    Y_test = test['Team1Win']\n",
    "    knn = KNeighborsClassifier(n_neighbors = num_neighbors)\n",
    "    knn.fit(X_train,Y_train)\n",
    "    print('K Nearest Neighbors performance: ' + str(knn.score(X_test,Y_test)))\n",
    "    svc = SVC(gamma = 'scale',probability= True)\n",
    "    svc.fit(X_train, Y_train)\n",
    "    print(\"Support Vector Machine performance: \"+ str(svc.score(X_test, Y_test)))\n",
    "    bag = BaggingClassifier(base_estimator=SVC(gamma = 'scale'),n_estimators = 10,random_state= 0)\n",
    "    bag.fit(X_train,Y_train)\n",
    "    print(\"Bagging Classifier performance: \"+ str(bag.score(X_test,Y_test)))\n",
    "    rfc = RandomForestClassifier(max_depth=8,random_state=10,n_estimators=300)\n",
    "    rfc.fit(X_train,Y_train)\n",
    "    print('Random Forest Classifier performance: ' + str(rfc.score(X_test, Y_test)))"
   ]
  },
  {
   "cell_type": "markdown",
   "metadata": {},
   "source": [
    "Now we can test the models on the data we currently have. The data is split so that 75% of it is used for the training set and 25% is used for testing set. In our first test, we do not shuffle any of the data, and we use the defualt 15 nearest neighbors."
   ]
  },
  {
   "cell_type": "code",
   "execution_count": 15,
   "metadata": {},
   "outputs": [
    {
     "name": "stdout",
     "output_type": "stream",
     "text": [
      "K Nearest Neighbors performance: 0.6813008130081301\n",
      "Support Vector Machine performance: 0.6617886178861788\n",
      "Bagging Classifier performance: 0.6585365853658537\n",
      "Random Forest Classifier performance: 0.6552845528455284\n"
     ]
    }
   ],
   "source": [
    "train, test = train_test_split(df_train, test_size = 0.25,shuffle = False) #splits data so 75% is training and 25% is testing\n",
    "test_Predictions(train,test,False) #prints out the accuracy of each model"
   ]
  },
  {
   "cell_type": "markdown",
   "metadata": {},
   "source": [
    "From our results, we see that all four models perform around the same in terms of accuracy, ranging from ~65% - ~69%. The K-Nearest Neighbors model had the highest accuracy out of all the models, but not by a significant margin.\n",
    "\n",
    "\n",
    "\n",
    "Now, we test the models on the same data, but the data will be shuffled to see if there is any effect:"
   ]
  },
  {
   "cell_type": "code",
   "execution_count": 16,
   "metadata": {},
   "outputs": [
    {
     "name": "stdout",
     "output_type": "stream",
     "text": [
      "K Nearest Neighbors performance: 0.7111111111111111\n",
      "Support Vector Machine performance: 0.6780487804878049\n",
      "Bagging Classifier performance: 0.6715447154471544\n",
      "Random Forest Classifier performance: 0.8227642276422764\n"
     ]
    }
   ],
   "source": [
    "train, test = train_test_split(df_train, test_size = 0.25,shuffle = True)\n",
    "test_Predictions(train,test)"
   ]
  },
  {
   "cell_type": "markdown",
   "metadata": {},
   "source": [
    "From these results, we see that all four models performed better when the data is shuffled, showing that adding randomization helps improve the models. We see the range of accuracy is ~67% - ~82%, and the Random Forest Classifier performed the best out of the four models with an accuracy of ~82.1%\n",
    "\n",
    "\n",
    "## Applying To New Data\n",
    "Seeing as the randomized Random Forest Classifier performed the best out of all 8 situations, we will use this model to see if we can predict the records for the 2019-2020 before the season went into shutdown due to COVID using the 2017-2018 and 2018-2019 data as the training data.\n",
    "First, we have to get the 2019-2020 data and format it just like we did for the rest of the data"
   ]
  },
  {
   "cell_type": "code",
   "execution_count": 17,
   "metadata": {},
   "outputs": [],
   "source": [
    "df_2020_game = pd.read_csv('2019-20GameData.csv')\n",
    "df_2020_stats = pd.read_csv('2019-20Stats.csv')"
   ]
  },
  {
   "cell_type": "code",
   "execution_count": 18,
   "metadata": {},
   "outputs": [
    {
     "name": "stdout",
     "output_type": "stream",
     "text": [
      "K Nearest Neighbors performance: 0.6539649845520082\n",
      "Support Vector Machine performance: 0.6725025746652935\n",
      "Bagging Classifier performance: 0.6673532440782698\n",
      "Random Forest Classifier performance: 0.6735324407826982\n",
      "K Nearest Neighbors performance: 0.7142276422764228\n",
      "Support Vector Machine performance: 0.6784552845528455\n",
      "Bagging Classifier performance: 0.6780487804878049\n",
      "Random Forest Classifier performance: 0.8032520325203252\n"
     ]
    }
   ],
   "source": [
    "conditions = [\n",
    "    df_2020_game['Team1PTS'] > df_2020_game['Team2PTS'],\n",
    "    df_2020_game['Team1PTS'] < df_2020_game['Team2PTS']\n",
    "]\n",
    "\n",
    "choices=[1,0]\n",
    "\n",
    "df_2020_game['Team1Win'] = np.select(conditions, choices, 1)\n",
    "\n",
    "# Mergings the results and stats datasets, adding a prefix depending on which teams stats are being used\n",
    "df_2020 = df_2020_game.merge(df_2020_stats.add_prefix('Team1'), how='left', left_on=['Team1'], \n",
    "                   right_on=['Team1TEAM']).drop(['Team1TEAM'],\n",
    "                                                axis=1).merge(df_2020_stats.add_prefix('Team2'), \n",
    "                                                                            how='left', left_on=['Team2'], \n",
    "                                                                            right_on=['Team2TEAM']).drop(['Team2TEAM'],axis=1)\n",
    "df_2020.to_csv('2020Data.csv')\n",
    "df_2020 = df_2020.drop(['Team1GP', 'Team1W','Team1L','Team1MIN','Team2GP','Team2W','Team2L','Team2MIN'],1)\n",
    "df_test = df_2020.drop(['Team1','Team2','Team1PTS','Team2PTS'],1)\n",
    "test_Predictions(df_train,df_test,False)\n",
    "test_Predictions(df_train,df_test)"
   ]
  },
  {
   "cell_type": "markdown",
   "metadata": {},
   "source": [
    "We see again that the Random Forest Classifier with randomization performs the best out of all 8 situations.\n",
    "Now we can use this information to fit and train a Random Forest Classifier with randmoized data from 2017-2019 games and use them to output predictions for the 2019-2020 season."
   ]
  },
  {
   "cell_type": "code",
   "execution_count": 19,
   "metadata": {},
   "outputs": [],
   "source": [
    "df_train = df_train.sample(frac = 1) #randomize the training data\n",
    "df_test = df_test.sample(frac = 1) #randomize the testing data\n",
    "X_Train = df_train.drop(['Team1Win'],1)\n",
    "Y_Train = df_train['Team1Win']\n",
    "X_Test = df_test.drop(['Team1Win'],1)\n",
    "rfc = RandomForestClassifier(max_depth=8,random_state=10,n_estimators=300)\n",
    "rfc.fit(X_Train,Y_Train) \n",
    "predictions = rfc.predict(X_Test)#output the predictions of the model\n"
   ]
  },
  {
   "cell_type": "markdown",
   "metadata": {},
   "source": [
    "Now that we have the predicted outputs of each game stored, we can use these predictions to create a data frame to display the records of each team ."
   ]
  },
  {
   "cell_type": "code",
   "execution_count": 20,
   "metadata": {},
   "outputs": [
    {
     "data": {
      "text/html": [
       "<div>\n",
       "<style scoped>\n",
       "    .dataframe tbody tr th:only-of-type {\n",
       "        vertical-align: middle;\n",
       "    }\n",
       "\n",
       "    .dataframe tbody tr th {\n",
       "        vertical-align: top;\n",
       "    }\n",
       "\n",
       "    .dataframe thead th {\n",
       "        text-align: right;\n",
       "    }\n",
       "</style>\n",
       "<table border=\"1\" class=\"dataframe\">\n",
       "  <thead>\n",
       "    <tr style=\"text-align: right;\">\n",
       "      <th></th>\n",
       "      <th>Team</th>\n",
       "      <th>W</th>\n",
       "      <th>L</th>\n",
       "    </tr>\n",
       "  </thead>\n",
       "  <tbody>\n",
       "  </tbody>\n",
       "</table>\n",
       "</div>"
      ],
      "text/plain": [
       "Empty DataFrame\n",
       "Columns: [Team, W, L]\n",
       "Index: []"
      ]
     },
     "execution_count": 20,
     "metadata": {},
     "output_type": "execute_result"
    }
   ],
   "source": [
    "df_predicted_records = pd.DataFrame(columns=['Team','W','L'])#initialize an empty data frame\n",
    "df_predicted_records"
   ]
  },
  {
   "cell_type": "code",
   "execution_count": 21,
   "metadata": {},
   "outputs": [],
   "source": [
    "for i,x in enumerate(predictions):\n",
    "    index = df_test.index[i] #get the index of the game to match with the index of the 2020 data frame\n",
    "    team1 = df_2020['Team1'][index] #Gets the actual team name of team1 of the game\n",
    "    team2 = df_2020['Team2'][index]#Gets the actual team name of team2 of the game\n",
    "    if(not(team1 in list(df_predicted_records['Team']))): #if the team is not already in the data frame, add it to the dataframe\n",
    "        df_predicted_records.loc[len(df_predicted_records.index)] = [team1, 0, 0]\n",
    "    if(not(team2 in list(df_predicted_records['Team']))):\n",
    "        df_predicted_records.loc[len(df_predicted_records.index)] = [team2, 0, 0]\n",
    "    if(x == 0): #if team1 lost, add a loss to its record and a win to team2's record\n",
    "        df_predicted_records['L'][df_predicted_records.index[df_predicted_records['Team'] == team1][0]]+=1\n",
    "        df_predicted_records['W'][df_predicted_records.index[df_predicted_records['Team'] == team2][0]]+=1\n",
    "    else:#if team1 won, add a win to its record and a loss to team2's record\n",
    "        df_predicted_records['W'][df_predicted_records.index[df_predicted_records['Team'] == team1][0]]+=1\n",
    "        df_predicted_records['L'][df_predicted_records.index[df_predicted_records['Team'] == team2][0]]+=1\n"
   ]
  },
  {
   "cell_type": "code",
   "execution_count": 22,
   "metadata": {},
   "outputs": [
    {
     "data": {
      "text/html": [
       "<div>\n",
       "<style scoped>\n",
       "    .dataframe tbody tr th:only-of-type {\n",
       "        vertical-align: middle;\n",
       "    }\n",
       "\n",
       "    .dataframe tbody tr th {\n",
       "        vertical-align: top;\n",
       "    }\n",
       "\n",
       "    .dataframe thead th {\n",
       "        text-align: right;\n",
       "    }\n",
       "</style>\n",
       "<table border=\"1\" class=\"dataframe\">\n",
       "  <thead>\n",
       "    <tr style=\"text-align: right;\">\n",
       "      <th></th>\n",
       "      <th>Team</th>\n",
       "      <th>W</th>\n",
       "      <th>L</th>\n",
       "    </tr>\n",
       "  </thead>\n",
       "  <tbody>\n",
       "    <tr>\n",
       "      <th>0</th>\n",
       "      <td>Oklahoma City Thunder</td>\n",
       "      <td>46</td>\n",
       "      <td>18</td>\n",
       "    </tr>\n",
       "    <tr>\n",
       "      <th>1</th>\n",
       "      <td>Brooklyn Nets</td>\n",
       "      <td>27</td>\n",
       "      <td>37</td>\n",
       "    </tr>\n",
       "    <tr>\n",
       "      <th>2</th>\n",
       "      <td>San Antonio Spurs</td>\n",
       "      <td>33</td>\n",
       "      <td>30</td>\n",
       "    </tr>\n",
       "    <tr>\n",
       "      <th>3</th>\n",
       "      <td>Phoenix Suns</td>\n",
       "      <td>43</td>\n",
       "      <td>22</td>\n",
       "    </tr>\n",
       "    <tr>\n",
       "      <th>4</th>\n",
       "      <td>Houston Rockets</td>\n",
       "      <td>43</td>\n",
       "      <td>21</td>\n",
       "    </tr>\n",
       "    <tr>\n",
       "      <th>5</th>\n",
       "      <td>Los Angeles Lakers</td>\n",
       "      <td>43</td>\n",
       "      <td>20</td>\n",
       "    </tr>\n",
       "    <tr>\n",
       "      <th>6</th>\n",
       "      <td>Los Angeles Clippers</td>\n",
       "      <td>52</td>\n",
       "      <td>12</td>\n",
       "    </tr>\n",
       "    <tr>\n",
       "      <th>7</th>\n",
       "      <td>New Orleans Pelicans</td>\n",
       "      <td>19</td>\n",
       "      <td>45</td>\n",
       "    </tr>\n",
       "    <tr>\n",
       "      <th>8</th>\n",
       "      <td>Minnesota Timberwolves</td>\n",
       "      <td>12</td>\n",
       "      <td>52</td>\n",
       "    </tr>\n",
       "    <tr>\n",
       "      <th>9</th>\n",
       "      <td>Indiana Pacers</td>\n",
       "      <td>47</td>\n",
       "      <td>18</td>\n",
       "    </tr>\n",
       "    <tr>\n",
       "      <th>10</th>\n",
       "      <td>Orlando Magic</td>\n",
       "      <td>27</td>\n",
       "      <td>38</td>\n",
       "    </tr>\n",
       "    <tr>\n",
       "      <th>11</th>\n",
       "      <td>Portland Trail Blazers</td>\n",
       "      <td>29</td>\n",
       "      <td>37</td>\n",
       "    </tr>\n",
       "    <tr>\n",
       "      <th>12</th>\n",
       "      <td>Chicago Bulls</td>\n",
       "      <td>12</td>\n",
       "      <td>53</td>\n",
       "    </tr>\n",
       "    <tr>\n",
       "      <th>13</th>\n",
       "      <td>Charlotte Hornets</td>\n",
       "      <td>5</td>\n",
       "      <td>60</td>\n",
       "    </tr>\n",
       "    <tr>\n",
       "      <th>14</th>\n",
       "      <td>Toronto Raptors</td>\n",
       "      <td>47</td>\n",
       "      <td>17</td>\n",
       "    </tr>\n",
       "    <tr>\n",
       "      <th>15</th>\n",
       "      <td>Utah Jazz</td>\n",
       "      <td>50</td>\n",
       "      <td>14</td>\n",
       "    </tr>\n",
       "    <tr>\n",
       "      <th>16</th>\n",
       "      <td>Golden State Warriors</td>\n",
       "      <td>2</td>\n",
       "      <td>63</td>\n",
       "    </tr>\n",
       "    <tr>\n",
       "      <th>17</th>\n",
       "      <td>Sacramento Kings</td>\n",
       "      <td>22</td>\n",
       "      <td>42</td>\n",
       "    </tr>\n",
       "    <tr>\n",
       "      <th>18</th>\n",
       "      <td>New York Knicks</td>\n",
       "      <td>9</td>\n",
       "      <td>57</td>\n",
       "    </tr>\n",
       "    <tr>\n",
       "      <th>19</th>\n",
       "      <td>Detroit Pistons</td>\n",
       "      <td>23</td>\n",
       "      <td>43</td>\n",
       "    </tr>\n",
       "    <tr>\n",
       "      <th>20</th>\n",
       "      <td>Cleveland Cavaliers</td>\n",
       "      <td>15</td>\n",
       "      <td>50</td>\n",
       "    </tr>\n",
       "    <tr>\n",
       "      <th>21</th>\n",
       "      <td>Washington Wizards</td>\n",
       "      <td>22</td>\n",
       "      <td>42</td>\n",
       "    </tr>\n",
       "    <tr>\n",
       "      <th>22</th>\n",
       "      <td>Miami Heat</td>\n",
       "      <td>50</td>\n",
       "      <td>15</td>\n",
       "    </tr>\n",
       "    <tr>\n",
       "      <th>23</th>\n",
       "      <td>Memphis Grizzlies</td>\n",
       "      <td>28</td>\n",
       "      <td>37</td>\n",
       "    </tr>\n",
       "    <tr>\n",
       "      <th>24</th>\n",
       "      <td>Boston Celtics</td>\n",
       "      <td>50</td>\n",
       "      <td>14</td>\n",
       "    </tr>\n",
       "    <tr>\n",
       "      <th>25</th>\n",
       "      <td>Denver Nuggets</td>\n",
       "      <td>50</td>\n",
       "      <td>15</td>\n",
       "    </tr>\n",
       "    <tr>\n",
       "      <th>26</th>\n",
       "      <td>Dallas Mavericks</td>\n",
       "      <td>53</td>\n",
       "      <td>14</td>\n",
       "    </tr>\n",
       "    <tr>\n",
       "      <th>27</th>\n",
       "      <td>Milwaukee Bucks</td>\n",
       "      <td>64</td>\n",
       "      <td>1</td>\n",
       "    </tr>\n",
       "    <tr>\n",
       "      <th>28</th>\n",
       "      <td>Atlanta Hawks</td>\n",
       "      <td>7</td>\n",
       "      <td>60</td>\n",
       "    </tr>\n",
       "    <tr>\n",
       "      <th>29</th>\n",
       "      <td>Philadelphia 76ers</td>\n",
       "      <td>41</td>\n",
       "      <td>24</td>\n",
       "    </tr>\n",
       "  </tbody>\n",
       "</table>\n",
       "</div>"
      ],
      "text/plain": [
       "                      Team   W   L\n",
       "0    Oklahoma City Thunder  46  18\n",
       "1            Brooklyn Nets  27  37\n",
       "2        San Antonio Spurs  33  30\n",
       "3             Phoenix Suns  43  22\n",
       "4          Houston Rockets  43  21\n",
       "5       Los Angeles Lakers  43  20\n",
       "6     Los Angeles Clippers  52  12\n",
       "7     New Orleans Pelicans  19  45\n",
       "8   Minnesota Timberwolves  12  52\n",
       "9           Indiana Pacers  47  18\n",
       "10           Orlando Magic  27  38\n",
       "11  Portland Trail Blazers  29  37\n",
       "12           Chicago Bulls  12  53\n",
       "13       Charlotte Hornets   5  60\n",
       "14         Toronto Raptors  47  17\n",
       "15               Utah Jazz  50  14\n",
       "16   Golden State Warriors   2  63\n",
       "17        Sacramento Kings  22  42\n",
       "18         New York Knicks   9  57\n",
       "19         Detroit Pistons  23  43\n",
       "20     Cleveland Cavaliers  15  50\n",
       "21      Washington Wizards  22  42\n",
       "22              Miami Heat  50  15\n",
       "23       Memphis Grizzlies  28  37\n",
       "24          Boston Celtics  50  14\n",
       "25          Denver Nuggets  50  15\n",
       "26        Dallas Mavericks  53  14\n",
       "27         Milwaukee Bucks  64   1\n",
       "28           Atlanta Hawks   7  60\n",
       "29      Philadelphia 76ers  41  24"
      ]
     },
     "execution_count": 22,
     "metadata": {},
     "output_type": "execute_result"
    }
   ],
   "source": [
    "df_predicted_records"
   ]
  },
  {
   "cell_type": "markdown",
   "metadata": {},
   "source": [
    "If we compare these standings to the actual standings (https://www.nba.com/stats/teams/advanced/?sort=TEAM_NAME&dir=-1&Season=2019-20&SeasonType=Regular%20Season), we see that it does not do a bad job with the middle of the pack teams; however, for teams far below average or far above average, the model, for the most part, will always sway towards giving the far above average teams the win and giving the far below average teams the loss. In other words, the model does not deal with extrema well, and it does not predict upsets as much as it should."
   ]
  },
  {
   "cell_type": "markdown",
   "metadata": {},
   "source": [
    "## Result Analysis\n",
    "From the results, we saw that the Random Forest Classifier when the data was randomized performed the best, getting ~80% of the games correct, which is quite impressive, but it could be improved. For example, in a real season, many more upsets occur. This can be due to the fact that the better statistical team is the away team, the better statistical team is playing the second game of a back-to-back, making them more fatigued, or travelling factors. If a team is on a long road trip, and they have to travel a lot, they are more likely to be fatigued.\n",
    "\n",
    "Another issue with these results is the fact that the data used to create the model makes it hard to use this model in future seasons. This is because statistics like these cannot be used during the early stages of a current season because the statistics will not be an accurate representation of the team. It would take a good amount of the season to retrieve data that would be an accurate representation of the average performance of the team. Another flaw would be the fact that the data is biased, as the statistics of the team already include all the performances of their games. This leads to a realization that it we may be better off using individual player data rather than team data to predict outcomes, especially since teams can change a lot more drastically during one offseason than a player."
   ]
  }
 ],
 "metadata": {
  "kernelspec": {
   "display_name": "Python 3",
   "language": "python",
   "name": "python3"
  },
  "language_info": {
   "codemirror_mode": {
    "name": "ipython",
    "version": 3
   },
   "file_extension": ".py",
   "mimetype": "text/x-python",
   "name": "python",
   "nbconvert_exporter": "python",
   "pygments_lexer": "ipython3",
   "version": "3.7.7"
  }
 },
 "nbformat": 4,
 "nbformat_minor": 2
}